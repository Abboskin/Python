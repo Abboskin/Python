{
 "cells": [
  {
   "cell_type": "code",
   "execution_count": 96,
   "metadata": {},
   "outputs": [],
   "source": [
    "import numpy as np\n",
    "import sys"
   ]
  },
  {
   "cell_type": "code",
   "execution_count": 97,
   "metadata": {},
   "outputs": [
    {
     "name": "stdout",
     "output_type": "stream",
     "text": [
      "1.26.4\n",
      "Build Dependencies:\n",
      "  blas:\n",
      "    detection method: pkgconfig\n",
      "    found: true\n",
      "    include directory: /c/opt/64/include\n",
      "    lib directory: /c/opt/64/lib\n",
      "    name: openblas64\n",
      "    openblas configuration: USE_64BITINT=1 DYNAMIC_ARCH=1 DYNAMIC_OLDER= NO_CBLAS=\n",
      "      NO_LAPACK= NO_LAPACKE= NO_AFFINITY=1 USE_OPENMP= SKYLAKEX MAX_THREADS=2\n",
      "    pc file directory: C:/opt/64/lib/pkgconfig\n",
      "    version: 0.3.23.dev\n",
      "  lapack:\n",
      "    detection method: internal\n",
      "    found: true\n",
      "    include directory: unknown\n",
      "    lib directory: unknown\n",
      "    name: dep3179274605568\n",
      "    openblas configuration: unknown\n",
      "    pc file directory: unknown\n",
      "    version: 1.26.4\n",
      "Compilers:\n",
      "  c:\n",
      "    commands: cl\n",
      "    linker: link\n",
      "    name: msvc\n",
      "    version: 19.29.30153\n",
      "  c++:\n",
      "    commands: cl\n",
      "    linker: link\n",
      "    name: msvc\n",
      "    version: 19.29.30153\n",
      "  cython:\n",
      "    commands: cython\n",
      "    linker: cython\n",
      "    name: cython\n",
      "    version: 3.0.8\n",
      "Machine Information:\n",
      "  build:\n",
      "    cpu: x86_64\n",
      "    endian: little\n",
      "    family: x86_64\n",
      "    system: windows\n",
      "  host:\n",
      "    cpu: x86_64\n",
      "    endian: little\n",
      "    family: x86_64\n",
      "    system: windows\n",
      "Python Information:\n",
      "  path: C:\\Users\\runneradmin\\AppData\\Local\\Temp\\cibw-run-g7slqwov\\cp312-win_amd64\\build\\venv\\Scripts\\python.exe\n",
      "  version: '3.12'\n",
      "SIMD Extensions:\n",
      "  baseline:\n",
      "  - SSE\n",
      "  - SSE2\n",
      "  - SSE3\n",
      "  found:\n",
      "  - SSSE3\n",
      "  - SSE41\n",
      "  - POPCNT\n",
      "  - SSE42\n",
      "  - AVX\n",
      "  - F16C\n",
      "  - FMA3\n",
      "  - AVX2\n",
      "  not found:\n",
      "  - AVX512F\n",
      "  - AVX512CD\n",
      "  - AVX512_SKX\n",
      "  - AVX512_CLX\n",
      "  - AVX512_CNL\n",
      "  - AVX512_ICL\n",
      "\n"
     ]
    }
   ],
   "source": [
    "# 1\n",
    "print( np.__version__)\n",
    "np.show_config()"
   ]
  },
  {
   "cell_type": "code",
   "execution_count": 98,
   "metadata": {},
   "outputs": [
    {
     "name": "stdout",
     "output_type": "stream",
     "text": [
      "Help on ufunc:\n",
      "\n",
      "add = <ufunc 'add'>\n",
      "    add(x1, x2, /, out=None, *, where=True, casting='same_kind', order='K', dtype=None, subok=True[, signature, extobj])\n",
      "\n",
      "    Add arguments element-wise.\n",
      "\n",
      "    Parameters\n",
      "    ----------\n",
      "    x1, x2 : array_like\n",
      "        The arrays to be added.\n",
      "        If ``x1.shape != x2.shape``, they must be broadcastable to a common\n",
      "        shape (which becomes the shape of the output).\n",
      "    out : ndarray, None, or tuple of ndarray and None, optional\n",
      "        A location into which the result is stored. If provided, it must have\n",
      "        a shape that the inputs broadcast to. If not provided or None,\n",
      "        a freshly-allocated array is returned. A tuple (possible only as a\n",
      "        keyword argument) must have length equal to the number of outputs.\n",
      "    where : array_like, optional\n",
      "        This condition is broadcast over the input. At locations where the\n",
      "        condition is True, the `out` array will be set to the ufunc result.\n",
      "        Elsewhere, the `out` array will retain its original value.\n",
      "        Note that if an uninitialized `out` array is created via the default\n",
      "        ``out=None``, locations within it where the condition is False will\n",
      "        remain uninitialized.\n",
      "    **kwargs\n",
      "        For other keyword-only arguments, see the\n",
      "        :ref:`ufunc docs <ufuncs.kwargs>`.\n",
      "\n",
      "    Returns\n",
      "    -------\n",
      "    add : ndarray or scalar\n",
      "        The sum of `x1` and `x2`, element-wise.\n",
      "        This is a scalar if both `x1` and `x2` are scalars.\n",
      "\n",
      "    Notes\n",
      "    -----\n",
      "    Equivalent to `x1` + `x2` in terms of array broadcasting.\n",
      "\n",
      "    Examples\n",
      "    --------\n",
      "    >>> np.add(1.0, 4.0)\n",
      "    5.0\n",
      "    >>> x1 = np.arange(9.0).reshape((3, 3))\n",
      "    >>> x2 = np.arange(3.0)\n",
      "    >>> np.add(x1, x2)\n",
      "    array([[  0.,   2.,   4.],\n",
      "           [  3.,   5.,   7.],\n",
      "           [  6.,   8.,  10.]])\n",
      "\n",
      "    The ``+`` operator can be used as a shorthand for ``np.add`` on ndarrays.\n",
      "\n",
      "    >>> x1 = np.arange(9.0).reshape((3, 3))\n",
      "    >>> x2 = np.arange(3.0)\n",
      "    >>> x1 + x2\n",
      "    array([[ 0.,  2.,  4.],\n",
      "           [ 3.,  5.,  7.],\n",
      "           [ 6.,  8., 10.]])\n",
      "\n"
     ]
    }
   ],
   "source": [
    "# 2\n",
    "help(np.add)"
   ]
  },
  {
   "cell_type": "code",
   "execution_count": 99,
   "metadata": {},
   "outputs": [
    {
     "name": "stdout",
     "output_type": "stream",
     "text": [
      "True\n"
     ]
    }
   ],
   "source": [
    "# 3\n",
    "arr = np.array([1, 2, 3, 4, 5])\n",
    "print(np.all(arr))\n"
   ]
  },
  {
   "cell_type": "code",
   "execution_count": 100,
   "metadata": {},
   "outputs": [
    {
     "name": "stdout",
     "output_type": "stream",
     "text": [
      "True\n"
     ]
    }
   ],
   "source": [
    "# 4\n",
    "print(np.any(arr))\n"
   ]
  },
  {
   "cell_type": "code",
   "execution_count": 101,
   "metadata": {},
   "outputs": [
    {
     "name": "stdout",
     "output_type": "stream",
     "text": [
      "[ True  True False False]\n"
     ]
    }
   ],
   "source": [
    "# 5\n",
    "arr_finite = np.array([1, 2, np.inf, -np.inf])\n",
    "print(np.isfinite(arr_finite))"
   ]
  },
  {
   "cell_type": "code",
   "execution_count": 102,
   "metadata": {},
   "outputs": [
    {
     "name": "stdout",
     "output_type": "stream",
     "text": [
      "[False False  True  True]\n"
     ]
    }
   ],
   "source": [
    "# 6\n",
    "print(np.isinf(arr_finite))\n"
   ]
  },
  {
   "cell_type": "code",
   "execution_count": 103,
   "metadata": {},
   "outputs": [
    {
     "name": "stdout",
     "output_type": "stream",
     "text": [
      "[False False False False]\n"
     ]
    }
   ],
   "source": [
    "# 7\n",
    "print(np.isnan(arr_finite))"
   ]
  },
  {
   "cell_type": "code",
   "execution_count": 104,
   "metadata": {},
   "outputs": [
    {
     "name": "stdout",
     "output_type": "stream",
     "text": [
      "[ True False  True]\n",
      "[False  True False]\n",
      "True\n"
     ]
    }
   ],
   "source": [
    "# 8\n",
    "arr_complex = np.array([1 + 1j, 2, 3 + 2j])\n",
    "print(np.iscomplex(arr_complex))\n",
    "print(np.isreal(arr_complex))\n",
    "print( np.isscalar(1))"
   ]
  },
  {
   "cell_type": "code",
   "execution_count": 105,
   "metadata": {},
   "outputs": [
    {
     "name": "stdout",
     "output_type": "stream",
     "text": [
      "True\n"
     ]
    }
   ],
   "source": [
    "# 9\n",
    "arr1 = np.array([1.0, 2.001, 3.5])\n",
    "arr2 = np.array([1.0, 2.0, 3.5001])\n",
    "print(np.allclose(arr1, arr2, atol=1e-2))"
   ]
  },
  {
   "cell_type": "code",
   "execution_count": 106,
   "metadata": {},
   "outputs": [
    {
     "name": "stdout",
     "output_type": "stream",
     "text": [
      "[False False  True]\n",
      "[ True False  True]\n",
      "[False  True False]\n",
      "[ True  True False]\n"
     ]
    }
   ],
   "source": [
    "# 10\n",
    "arr3 = np.array([1, 2, 3])\n",
    "arr4 = np.array([1, 3, 2])\n",
    "print(np.greater(arr3, arr4))\n",
    "print(np.greater_equal(arr3, arr4))\n",
    "print(np.less(arr3, arr4))\n",
    "print(np.less_equal(arr3, arr4))"
   ]
  },
  {
   "cell_type": "code",
   "execution_count": 107,
   "metadata": {},
   "outputs": [
    {
     "name": "stdout",
     "output_type": "stream",
     "text": [
      "[ True False False]\n",
      "False\n"
     ]
    }
   ],
   "source": [
    "# 11\n",
    "print(np.equal(arr3, arr4))\n",
    "print(np.allclose(arr3, arr4, atol=0.1))"
   ]
  },
  {
   "cell_type": "code",
   "execution_count": 108,
   "metadata": {},
   "outputs": [
    {
     "name": "stdout",
     "output_type": "stream",
     "text": [
      "16\n"
     ]
    }
   ],
   "source": [
    "# 12\n",
    "arr_values = np.array([1, 7, 13, 105])\n",
    "print(arr_values.nbytes)"
   ]
  },
  {
   "cell_type": "code",
   "execution_count": 109,
   "metadata": {},
   "outputs": [
    {
     "name": "stdout",
     "output_type": "stream",
     "text": [
      "[0. 0. 0. 0. 0. 0. 0. 0. 0. 0. 1. 1. 1. 1. 1. 1. 1. 1. 1. 1. 5. 5. 5. 5.\n",
      " 5. 5. 5. 5. 5. 5.]\n"
     ]
    }
   ],
   "source": [
    "# 13\n",
    "zeros = np.zeros(10)\n",
    "ones = np.ones(10)\n",
    "fives = np.full(10, 5)\n",
    "combined_array = np.concatenate((zeros, ones, fives))\n",
    "print(combined_array)"
   ]
  },
  {
   "cell_type": "code",
   "execution_count": 110,
   "metadata": {},
   "outputs": [
    {
     "name": "stdout",
     "output_type": "stream",
     "text": [
      "[30 31 32 33 34 35 36 37 38 39 40 41 42 43 44 45 46 47 48 49 50 51 52 53\n",
      " 54 55 56 57 58 59 60 61 62 63 64 65 66 67 68 69 70]\n"
     ]
    }
   ],
   "source": [
    "# 14\n",
    "arr_30_to_70 = np.arange(30, 71)\n",
    "print(arr_30_to_70)"
   ]
  },
  {
   "cell_type": "code",
   "execution_count": 111,
   "metadata": {},
   "outputs": [
    {
     "name": "stdout",
     "output_type": "stream",
     "text": [
      "[30 32 34 36 38 40 42 44 46 48 50 52 54 56 58 60 62 64 66 68 70]\n"
     ]
    }
   ],
   "source": [
    "# 15\n",
    "arr_even_30_to_70 = np.arange(30, 71, 2)\n",
    "print(arr_even_30_to_70)"
   ]
  },
  {
   "cell_type": "code",
   "execution_count": 112,
   "metadata": {},
   "outputs": [
    {
     "name": "stdout",
     "output_type": "stream",
     "text": [
      "[[1. 0. 0.]\n",
      " [0. 1. 0.]\n",
      " [0. 0. 1.]]\n"
     ]
    }
   ],
   "source": [
    "# 16\n",
    "identity_matrix = np.eye(3)\n",
    "print(identity_matrix)\n"
   ]
  },
  {
   "cell_type": "code",
   "execution_count": 113,
   "metadata": {},
   "outputs": [
    {
     "name": "stdout",
     "output_type": "stream",
     "text": [
      "0.4558987952023761\n"
     ]
    }
   ],
   "source": [
    "# 17\n",
    "print(np.random.rand())"
   ]
  },
  {
   "cell_type": "code",
   "execution_count": 114,
   "metadata": {},
   "outputs": [
    {
     "name": "stdout",
     "output_type": "stream",
     "text": [
      "[-0.96005081  0.18099002 -1.12290478 -0.88736643 -0.54042088 -1.6018968\n",
      "  0.15087211  0.76904085 -2.05097729 -2.45453671 -2.01735695  1.17809184\n",
      "  0.12475114  0.42417105  0.16500814]\n"
     ]
    }
   ],
   "source": [
    "# 18\n",
    "print(np.random.randn(15))\n"
   ]
  },
  {
   "cell_type": "code",
   "execution_count": 115,
   "metadata": {},
   "outputs": [
    {
     "name": "stdout",
     "output_type": "stream",
     "text": [
      "[16 17 18 19 20 21 22 23 24 25 26 27 28 29 30 31 32 33 34 35 36 37 38 39\n",
      " 40 41 42 43 44 45 46 47 48 49 50 51 52 53 54]\n"
     ]
    }
   ],
   "source": [
    "# 19\n",
    "vec_15_to_55 = np.arange(15, 56)\n",
    "print(vec_15_to_55[1:-1])"
   ]
  },
  {
   "cell_type": "code",
   "execution_count": 116,
   "metadata": {},
   "outputs": [
    {
     "name": "stdout",
     "output_type": "stream",
     "text": [
      "array: [[ 1  2  3  4]\n",
      " [ 5  6  7  8]\n",
      " [ 9 10 11 12]]\n",
      "Iterating:\n",
      "[1 2 3 4]\n",
      "[5 6 7 8]\n",
      "[ 9 10 11 12]\n"
     ]
    }
   ],
   "source": [
    "# 20\n",
    "arr_3x4 = np.arange(1, 13).reshape(3, 4)\n",
    "print(\"array:\", arr_3x4)\n",
    "print(\"Iterating:\")\n",
    "for row in arr_3x4:\n",
    "    print(row)"
   ]
  },
  {
   "cell_type": "code",
   "execution_count": 117,
   "metadata": {},
   "outputs": [
    {
     "name": "stdout",
     "output_type": "stream",
     "text": [
      "[ 5. 10. 15. 20. 25. 30. 35. 40. 45. 50.]\n"
     ]
    }
   ],
   "source": [
    "# 21\n",
    "vec_21 = np.linspace(5, 50, 10)\n",
    "print(vec_21)"
   ]
  },
  {
   "cell_type": "code",
   "execution_count": 118,
   "metadata": {},
   "outputs": [
    {
     "name": "stdout",
     "output_type": "stream",
     "text": [
      "[  0   1   2   3   4   5   6   7   8  -9 -10 -11 -12 -13 -14 -15  16  17\n",
      "  18  19  20]\n"
     ]
    }
   ],
   "source": [
    "# 22\n",
    "vec_22 = np.arange(21)\n",
    "vec_22[(vec_22 >= 9) & (vec_22 <= 15)] *= -1\n",
    "print(vec_22)\n"
   ]
  },
  {
   "cell_type": "code",
   "execution_count": 119,
   "metadata": {},
   "outputs": [
    {
     "name": "stdout",
     "output_type": "stream",
     "text": [
      "[8 3 3 9 1]\n"
     ]
    }
   ],
   "source": [
    "# 23\n",
    "vec_23 = np.random.randint(0, 11, 5)\n",
    "print(vec_23)\n"
   ]
  },
  {
   "cell_type": "code",
   "execution_count": 120,
   "metadata": {},
   "outputs": [
    {
     "name": "stdout",
     "output_type": "stream",
     "text": [
      "[ 4 10 18]\n"
     ]
    }
   ],
   "source": [
    "# 24\n",
    "vec_a = np.array([1, 2, 3])\n",
    "vec_b = np.array([4, 5, 6])\n",
    "result_24 = vec_a * vec_b\n",
    "print(result_24)"
   ]
  },
  {
   "cell_type": "code",
   "execution_count": 121,
   "metadata": {},
   "outputs": [
    {
     "name": "stdout",
     "output_type": "stream",
     "text": [
      "[[10 11 12 13]\n",
      " [14 15 16 17]\n",
      " [18 19 20 21]]\n"
     ]
    }
   ],
   "source": [
    "# 25\n",
    "matrix_25 = np.arange(10, 22).reshape(3, 4)\n",
    "print(matrix_25)"
   ]
  },
  {
   "cell_type": "code",
   "execution_count": 122,
   "metadata": {},
   "outputs": [
    {
     "name": "stdout",
     "output_type": "stream",
     "text": [
      "rows: 3\n",
      "columns: 4\n"
     ]
    }
   ],
   "source": [
    "# 26\n",
    "rows, cols = matrix_25.shape\n",
    "print(\"rows:\", rows)\n",
    "print(\"columns:\", cols)"
   ]
  },
  {
   "cell_type": "code",
   "execution_count": 123,
   "metadata": {},
   "outputs": [
    {
     "name": "stdout",
     "output_type": "stream",
     "text": [
      "[[1. 0. 0.]\n",
      " [0. 1. 0.]\n",
      " [0. 0. 1.]]\n"
     ]
    }
   ],
   "source": [
    "# 27\n",
    "identity_matrix_27 = np.eye(3)\n",
    "print(identity_matrix_27)"
   ]
  },
  {
   "cell_type": "code",
   "execution_count": 124,
   "metadata": {},
   "outputs": [
    {
     "name": "stdout",
     "output_type": "stream",
     "text": [
      "[[1. 1. 1. 1. 1. 1. 1. 1. 1. 1.]\n",
      " [1. 0. 0. 0. 0. 0. 0. 0. 0. 1.]\n",
      " [1. 0. 0. 0. 0. 0. 0. 0. 0. 1.]\n",
      " [1. 0. 0. 0. 0. 0. 0. 0. 0. 1.]\n",
      " [1. 0. 0. 0. 0. 0. 0. 0. 0. 1.]\n",
      " [1. 0. 0. 0. 0. 0. 0. 0. 0. 1.]\n",
      " [1. 0. 0. 0. 0. 0. 0. 0. 0. 1.]\n",
      " [1. 0. 0. 0. 0. 0. 0. 0. 0. 1.]\n",
      " [1. 0. 0. 0. 0. 0. 0. 0. 0. 1.]\n",
      " [1. 1. 1. 1. 1. 1. 1. 1. 1. 1.]]\n"
     ]
    }
   ],
   "source": [
    "# 28\n",
    "matrix_28 = np.ones((10, 10))\n",
    "matrix_28[1:-1, 1:-1] = 0\n",
    "print(matrix_28)\n"
   ]
  },
  {
   "cell_type": "code",
   "execution_count": 125,
   "metadata": {},
   "outputs": [
    {
     "name": "stdout",
     "output_type": "stream",
     "text": [
      "[[1. 0. 0. 0. 0.]\n",
      " [0. 2. 0. 0. 0.]\n",
      " [0. 0. 3. 0. 0.]\n",
      " [0. 0. 0. 4. 0.]\n",
      " [0. 0. 0. 0. 5.]]\n"
     ]
    }
   ],
   "source": [
    "# 29\n",
    "matrix_29 = np.zeros((5, 5))\n",
    "np.fill_diagonal(matrix_29, [1, 2, 3, 4, 5])\n",
    "print(matrix_29)\n"
   ]
  },
  {
   "cell_type": "code",
   "execution_count": 126,
   "metadata": {},
   "outputs": [
    {
     "name": "stdout",
     "output_type": "stream",
     "text": [
      "[[0 1 0 1]\n",
      " [1 0 1 0]\n",
      " [0 1 0 1]\n",
      " [1 0 1 0]]\n"
     ]
    }
   ],
   "source": [
    "# 30\n",
    "matrix_30 = np.zeros((4, 4), int)\n",
    "matrix_30[1::2, ::2] = 1\n",
    "matrix_30[::2, 1::2] = 1\n",
    "print(matrix_30)\n"
   ]
  },
  {
   "cell_type": "code",
   "execution_count": 127,
   "metadata": {},
   "outputs": [
    {
     "name": "stdout",
     "output_type": "stream",
     "text": [
      "[[[0.00695101 0.3345846  0.41620509]\n",
      "  [0.14845987 0.63193661 0.29004284]\n",
      "  [0.61908632 0.65354912 0.41307223]]\n",
      "\n",
      " [[0.44307803 0.02913722 0.86567086]\n",
      "  [0.24537136 0.77576337 0.14628824]\n",
      "  [0.68671014 0.00117688 0.89462586]]\n",
      "\n",
      " [[0.45853662 0.78118949 0.76052052]\n",
      "  [0.30777652 0.36807937 0.08906885]\n",
      "  [0.73545948 0.14457097 0.19119558]]]\n"
     ]
    }
   ],
   "source": [
    "# 31\n",
    "print(np.random.random((3, 3, 3)))\n"
   ]
  },
  {
   "cell_type": "code",
   "execution_count": 128,
   "metadata": {},
   "outputs": [
    {
     "name": "stdout",
     "output_type": "stream",
     "text": [
      "elements: 45\n",
      "column: [12 15 18]\n",
      "row: [ 6 15 24]\n"
     ]
    }
   ],
   "source": [
    "# 32\n",
    "array = np.array([[1, 2, 3], [4, 5, 6], [7, 8, 9]])\n",
    "print(\"elements:\", np.sum(array))\n",
    "print(\"column:\", np.sum(array, axis=0))\n",
    "print(\"row:\", np.sum(array, axis=1))\n"
   ]
  },
  {
   "cell_type": "code",
   "execution_count": 129,
   "metadata": {},
   "outputs": [
    {
     "name": "stdout",
     "output_type": "stream",
     "text": [
      "32\n"
     ]
    }
   ],
   "source": [
    "# 33\n",
    "print(np.inner(vec_a, vec_b))\n"
   ]
  },
  {
   "cell_type": "code",
   "execution_count": 130,
   "metadata": {},
   "outputs": [
    {
     "name": "stdout",
     "output_type": "stream",
     "text": [
      "[[2 2 2]\n",
      " [5 5 5]\n",
      " [8 8 8]]\n"
     ]
    }
   ],
   "source": [
    "# 34\n",
    "matrix = np.array([[1, 2, 3], [4, 5, 6], [7, 8, 9]])\n",
    "vec = np.array([1, 0, -1])\n",
    "result_34 = matrix + vec\n",
    "print(result_34)\n"
   ]
  },
  {
   "cell_type": "code",
   "execution_count": 131,
   "metadata": {},
   "outputs": [],
   "source": [
    "# 35\n",
    "np.save(\"array.npy\", np.array([[1, 2, 3], [4, 5, 6], [7, 8, 9]]))\n"
   ]
  },
  {
   "cell_type": "code",
   "execution_count": 132,
   "metadata": {},
   "outputs": [
    {
     "name": "stdout",
     "output_type": "stream",
     "text": [
      "[[1 2 3]\n",
      " [4 5 6]\n",
      " [7 8 9]]\n"
     ]
    }
   ],
   "source": [
    "# 36\n",
    "np.save(\"array.npy\", np.array([[1, 2, 3], [4, 5, 6], [7, 8, 9]]))\n",
    "loaded_array = np.load(\"array.npy\")\n",
    "print(loaded_array)\n"
   ]
  },
  {
   "cell_type": "code",
   "execution_count": 133,
   "metadata": {},
   "outputs": [
    {
     "name": "stdout",
     "output_type": "stream",
     "text": [
      "[[1. 2. 3.]\n",
      " [4. 5. 6.]\n",
      " [7. 8. 9.]]\n"
     ]
    }
   ],
   "source": [
    "# 37.\n",
    "np.savetxt(\"array_37.txt\", np.array([[1, 2, 3], [4, 5, 6], [7, 8, 9]]))\n",
    "loaded_array = np.loadtxt(\"array_37.txt\")\n",
    "print(loaded_array)\n"
   ]
  },
  {
   "cell_type": "code",
   "execution_count": 134,
   "metadata": {},
   "outputs": [
    {
     "name": "stdout",
     "output_type": "stream",
     "text": [
      "[[1 2 3]\n",
      " [4 5 6]\n",
      " [7 8 9]]\n"
     ]
    }
   ],
   "source": [
    "# 38\n",
    "array = np.array([[1, 2, 3], [4, 5, 6], [7, 8, 9]])\n",
    "bytes_array = array.tobytes()\n",
    "loaded_array_38 = np.frombuffer(bytes_array, dtype=array.dtype).reshape(array.shape)\n",
    "print(loaded_array_38)\n"
   ]
  },
  {
   "cell_type": "code",
   "execution_count": 135,
   "metadata": {},
   "outputs": [
    {
     "name": "stdout",
     "output_type": "stream",
     "text": [
      "True\n"
     ]
    }
   ],
   "source": [
    "# 39\n",
    "original_list = [1, 2, 3, 4]\n",
    "array_from_list = np.array(original_list)\n",
    "list_from_array = array_from_list.tolist()\n",
    "print(original_list == list_from_array)\n"
   ]
  },
  {
   "cell_type": "code",
   "execution_count": 136,
   "metadata": {},
   "outputs": [
    {
     "data": {
      "image/png": "[encoded data removed]",
      "text/plain": [
       "<Figure size 640x480 with 1 Axes>"
      ]
     },
     "metadata": {},
     "output_type": "display_data"
    }
   ],
   "source": [
    "# 40\n",
    "import matplotlib.pyplot as plt\n",
    "x_points = np.linspace(0, 2 * np.pi, 100)\n",
    "y_points = np.sin(x_points)\n",
    "plt.plot(x_points, y_points)\n",
    "plt.title(\"Sine Curve\")\n",
    "plt.xlabel(\"X\")\n",
    "plt.ylabel(\"sin(X)\")\n",
    "plt.show()"
   ]
  },
  {
   "cell_type": "code",
   "execution_count": 137,
   "metadata": {},
   "outputs": [
    {
     "name": "stdout",
     "output_type": "stream",
     "text": [
      "[1.5, 2.3, 3.7]\n"
     ]
    }
   ],
   "source": [
    "# 41\n",
    "array_41 = np.array([1.5, 2.3, 3.7])\n",
    "native_types = [x.item() for x in array_41]\n",
    "print(native_types)"
   ]
  },
  {
   "cell_type": "code",
   "execution_count": 138,
   "metadata": {},
   "outputs": [
    {
     "name": "stdout",
     "output_type": "stream",
     "text": [
      "[ 1 11  0]\n"
     ]
    }
   ],
   "source": [
    "# 42\n",
    "matrix_42 = np.array([[1, 2, 0], [0, 3, 4], [5, 6, 7]])\n",
    "mask = np.cumsum(matrix_42 == 0, axis=0) == 0\n",
    "result_42 = np.where(mask, matrix_42, 0).sum(axis=0)\n",
    "print(result_42)\n"
   ]
  },
  {
   "cell_type": "code",
   "execution_count": 139,
   "metadata": {},
   "outputs": [
    {
     "name": "stdout",
     "output_type": "stream",
     "text": [
      "[False False  True False  True]\n"
     ]
    }
   ],
   "source": [
    "# 43\n",
    "array_43 = np.array([1, 2, np.nan, 4, np.nan])\n",
    "missing_data = np.isnan(array_43)\n",
    "print(missing_data)"
   ]
  },
  {
   "cell_type": "code",
   "execution_count": 140,
   "metadata": {},
   "outputs": [
    {
     "name": "stdout",
     "output_type": "stream",
     "text": [
      "True\n"
     ]
    }
   ],
   "source": [
    "# 44\n",
    "array_a = np.array([1, 2, 3])\n",
    "array_b = np.array([1, 2, 3])\n",
    "is_equal = np.array_equal(array_a, array_b)\n",
    "print(is_equal)\n"
   ]
  },
  {
   "cell_type": "code",
   "execution_count": 141,
   "metadata": {},
   "outputs": [
    {
     "name": "stdout",
     "output_type": "stream",
     "text": [
      "[  1  25 300]\n"
     ]
    }
   ],
   "source": [
    "# 45\n",
    "print(np.array([1, 25, 300]))"
   ]
  },
  {
   "cell_type": "code",
   "execution_count": 142,
   "metadata": {},
   "outputs": [
    {
     "name": "stdout",
     "output_type": "stream",
     "text": [
      "[[1 2 3]\n",
      " [4 5 6]]\n"
     ]
    }
   ],
   "source": [
    "# 46\n",
    "print(np.array([[1, 2, 3], [4, 5, 6]]))"
   ]
  },
  {
   "cell_type": "code",
   "execution_count": 143,
   "metadata": {},
   "outputs": [
    {
     "name": "stdout",
     "output_type": "stream",
     "text": [
      "[0.79689756 0.49532237 0.7850206  0.38768569 0.57978563 0.31541848\n",
      " 0.53779452 0.2442217  0.74660942 0.16329678 0.58501734 0.07549216\n",
      " 0.46101456 0.76350116 0.82612853 0.72111965 0.44986319 0.61681626\n",
      " 0.23282298 0.04227257 0.6816772  0.16438007 0.1604627  0.02798542\n",
      " 0.28848643 0.09519078 0.91047299 0.62826396 0.78826053 0.9942719\n",
      " 0.00878564 0.05124325 0.73786763 0.51118011 0.6219167  0.1419512\n",
      " 0.55561697 0.08831066 0.49611034 0.40041486]\n"
     ]
    }
   ],
   "source": [
    "# 47\n",
    "print(np.random.uniform(0, 1, 40))\n"
   ]
  },
  {
   "cell_type": "code",
   "execution_count": 144,
   "metadata": {},
   "outputs": [
    {
     "name": "stdout",
     "output_type": "stream",
     "text": [
      "[[195.91269539 195.05004826 202.84842146 200.12370474 186.64459381]\n",
      " [197.83173706 200.16220888 199.96481054 197.25220989 195.88626852]\n",
      " [208.65044676 202.77647585 209.31977134 203.00738911 196.64907741]\n",
      " [188.87088433 189.08340431 201.78419487 199.73391477 195.95064866]\n",
      " [182.41908324 207.03118694 207.58907231 202.34014299 203.49761469]\n",
      " [189.47181661 200.10698873 196.2232638  199.45273163 209.15673586]\n",
      " [201.88287953 207.6851975  203.05948301 211.99527098 202.12193286]\n",
      " [192.80223069 195.69080676 188.18163243 195.00458491 202.33523292]]\n"
     ]
    }
   ],
   "source": [
    "# 48\n",
    "print(np.random.normal(200, 7, (8, 5)))"
   ]
  },
  {
   "cell_type": "code",
   "execution_count": 145,
   "metadata": {},
   "outputs": [
    {
     "name": "stdout",
     "output_type": "stream",
     "text": [
      "[4 3 2 5 5]\n",
      "[5 4 3 1 2]\n"
     ]
    }
   ],
   "source": [
    "# 49\n",
    "sample_with_replacement = np.random.choice(np.array([1, 2, 3, 4, 5]), 5, replace=True)\n",
    "sample_without_replacement = np.random.choice(np.array([1, 2, 3, 4, 5]), 5, replace=False)\n",
    "print(sample_with_replacement)\n",
    "print(sample_without_replacement)"
   ]
  },
  {
   "cell_type": "code",
   "execution_count": 146,
   "metadata": {},
   "outputs": [
    {
     "name": "stdout",
     "output_type": "stream",
     "text": [
      "[[0.59529357 0.87637236 0.8760069  0.52584941]\n",
      " [0.91558971 0.11390723 0.53913176 0.17482903]\n",
      " [0.06598387 0.99756621 0.04121659 0.93732195]\n",
      " [0.80749314 0.81171862 0.54644787 0.11219465]]\n",
      "[[0.80749314 0.81171862 0.54644787 0.11219465]\n",
      " [0.91558971 0.11390723 0.53913176 0.17482903]\n",
      " [0.06598387 0.99756621 0.04121659 0.93732195]\n",
      " [0.59529357 0.87637236 0.8760069  0.52584941]]\n"
     ]
    }
   ],
   "source": [
    "# 50\n",
    "array_50 = np.random.rand(4, 4)\n",
    "print(array_50)\n",
    "array_50[[0, -1]] = array_50[[-1, 0]]\n",
    "print(array_50)"
   ]
  },
  {
   "cell_type": "code",
   "execution_count": 147,
   "metadata": {},
   "outputs": [
    {
     "name": "stdout",
     "output_type": "stream",
     "text": [
      "[[0. 0. 0. 0. 0. 0.]\n",
      " [0. 0. 0. 0. 0. 0.]\n",
      " [0. 0. 0. 0. 0. 0.]\n",
      " [0. 0. 0. 0. 0. 0.]\n",
      " [0. 0. 0. 0. 0. 0.]]\n"
     ]
    }
   ],
   "source": [
    "# 51\n",
    "print(np.zeros((5, 6)))"
   ]
  },
  {
   "cell_type": "code",
   "execution_count": 148,
   "metadata": {},
   "outputs": [
    {
     "name": "stdout",
     "output_type": "stream",
     "text": [
      "[[1 7 0]\n",
      " [8 8 6]\n",
      " [6 0 9]]\n",
      "Sorted by row: [[0 1 7]\n",
      " [6 8 8]\n",
      " [0 6 9]]\n",
      "Sorted by column: [[1 0 0]\n",
      " [6 7 6]\n",
      " [8 8 9]]\n"
     ]
    }
   ],
   "source": [
    "# 52\n",
    "array_52 = np.random.randint(0, 10, (3, 3))\n",
    "sorted_by_row = np.sort(array_52, axis=1)\n",
    "sorted_by_column = np.sort(array_52, axis=0)\n",
    "print(array_52)\n",
    "print(\"Sorted by row:\", sorted_by_row)\n",
    "print(\"Sorted by column:\", sorted_by_column)"
   ]
  },
  {
   "cell_type": "code",
   "execution_count": 149,
   "metadata": {},
   "outputs": [
    {
     "name": "stdout",
     "output_type": "stream",
     "text": [
      "<15: [ 1  5 10]\n",
      ">5: [10 15 20 25]\n"
     ]
    }
   ],
   "source": [
    "# 53\n",
    "array_53 = np.array([1, 5, 10, 15, 20, 25])\n",
    "less_than_15 = array_53[array_53 < 15]\n",
    "greater_than_5 = array_53[array_53 > 5]\n",
    "print(\"<15:\", less_than_15)\n",
    "print(\">5:\", greater_than_5)"
   ]
  },
  {
   "cell_type": "code",
   "execution_count": 150,
   "metadata": {},
   "outputs": [
    {
     "name": "stdout",
     "output_type": "stream",
     "text": [
      "[ -1  -1 100 100 100]\n"
     ]
    }
   ],
   "source": [
    "# 54\n",
    "array_54 = np.array([1, 2, 3, 4, 5])\n",
    "array_54[array_54 == 3] = 10\n",
    "array_54[array_54 < 3] = -1\n",
    "array_54[array_54 > 3] = 100\n",
    "print(array_54)"
   ]
  },
  {
   "cell_type": "code",
   "execution_count": 151,
   "metadata": {},
   "outputs": [
    {
     "name": "stdout",
     "output_type": "stream",
     "text": [
      "[[1 2 3]\n",
      " [4 5 6]]\n"
     ]
    }
   ],
   "source": [
    "# 55\n",
    "array_55 = np.array([[1, 2, 3], [4, 5, 6]])\n",
    "new_array_55 = np.empty_like(array_55)\n",
    "print( new_array_55)"
   ]
  },
  {
   "cell_type": "code",
   "execution_count": 152,
   "metadata": {},
   "outputs": [
    {
     "name": "stdout",
     "output_type": "stream",
     "text": [
      "[[[0.69017228 0.17259159 0.03075827 0.24709322]\n",
      "  [0.41403962 0.88318717 0.95844541 0.18898384]\n",
      "  [0.7617806  0.40073091 0.11652161 0.72083709]\n",
      "  [0.48916793 0.05265436 0.93194483 0.61271115]\n",
      "  [0.16076351 0.03421189 0.78304341 0.38075629]]\n",
      "\n",
      " [[0.69148878 0.34610031 0.54342422 0.52171692]\n",
      "  [0.939534   0.49875807 0.48172311 0.08567646]\n",
      "  [0.1761585  0.37076125 0.2090465  0.56682309]\n",
      "  [0.45508074 0.28195388 0.7438917  0.26905082]\n",
      "  [0.85758553 0.4058033  0.28387505 0.12897395]]\n",
      "\n",
      " [[0.48790555 0.73672491 0.31908709 0.91116231]\n",
      "  [0.39470071 0.29337692 0.88815306 0.19934889]\n",
      "  [0.86913938 0.70344428 0.71034378 0.74712135]\n",
      "  [0.98127995 0.26628422 0.22062556 0.04867554]\n",
      "  [0.26030901 0.79076382 0.08465606 0.24302404]]]\n"
     ]
    }
   ],
   "source": [
    "# 56\n",
    "print(np.random.rand(3, 5, 4))"
   ]
  },
  {
   "cell_type": "code",
   "execution_count": 153,
   "metadata": {},
   "outputs": [
    {
     "name": "stdout",
     "output_type": "stream",
     "text": [
      "[[ 3  2  1  0]\n",
      " [ 7  6  5  4]\n",
      " [11 10  9  8]\n",
      " [15 14 13 12]]\n"
     ]
    }
   ],
   "source": [
    "# 57\n",
    "array_57 = np.arange(16).reshape(4, 4)\n",
    "array_57[:, [0, -1]] = array_57[:, [-1, 0]]\n",
    "array_57[:, [1, 2]] = array_57[:, [2, 1]]\n",
    "print(array_57)"
   ]
  },
  {
   "cell_type": "code",
   "execution_count": 154,
   "metadata": {},
   "outputs": [
    {
     "name": "stdout",
     "output_type": "stream",
     "text": [
      "[[9 8 7]\n",
      " [6 5 4]\n",
      " [3 2 1]]\n"
     ]
    }
   ],
   "source": [
    "# 58\n",
    "array_58 = np.array([[1, 2, 3], [4, 5, 6], [7, 8, 9]])\n",
    "reversed_array_58 = array_58[::-1, ::-1]\n",
    "print(reversed_array_58)"
   ]
  },
  {
   "cell_type": "code",
   "execution_count": 155,
   "metadata": {},
   "outputs": [
    {
     "name": "stdout",
     "output_type": "stream",
     "text": [
      "[ 4 10 18]\n"
     ]
    }
   ],
   "source": [
    "# 59\n",
    "array_a59 = np.array([1, 2, 3])\n",
    "array_b59 = np.array([4, 5, 6])\n",
    "result_59 = array_a59 * array_b59\n",
    "print(result_59)"
   ]
  }
 ],
 "metadata": {
  "kernelspec": {
   "display_name": "Python 3",
   "language": "python",
   "name": "python3"
  },
  "language_info": {
   "codemirror_mode": {
    "name": "ipython",
    "version": 3
   },
   "file_extension": ".py",
   "mimetype": "text/x-python",
   "name": "python",
   "nbconvert_exporter": "python",
   "pygments_lexer": "ipython3",
   "version": "3.12.7"
  }
 },
 "nbformat": 4,
 "nbformat_minor": 2
}
