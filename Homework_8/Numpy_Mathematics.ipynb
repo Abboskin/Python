{
 "cells": [
  {
   "cell_type": "code",
   "execution_count": 1,
   "metadata": {},
   "outputs": [],
   "source": [
    "import numpy as np"
   ]
  },
  {
   "cell_type": "code",
   "execution_count": 10,
   "metadata": {},
   "outputs": [
    {
     "name": "stdout",
     "output_type": "stream",
     "text": [
      "5.0\n",
      "-3.0\n",
      "4.0\n",
      "0.25\n"
     ]
    }
   ],
   "source": [
    "# 1\n",
    "a, b = np.array([1.0]), np.array([4.0])\n",
    "print(np.add(a, b)[0])\n",
    "print(np.subtract(a, b)[0])\n",
    "print(np.multiply(a, b)[0])\n",
    "print(np.divide(a, b)[0])"
   ]
  },
  {
   "cell_type": "code",
   "execution_count": 11,
   "metadata": {},
   "outputs": [
    {
     "name": "stdout",
     "output_type": "stream",
     "text": [
      "-119.99995459903973\n",
      "-119.99859043108894\n"
     ]
    }
   ],
   "source": [
    "# 2\n",
    "arr = np.array([-120, -130, -140])\n",
    "log_sum_exp = np.log(np.sum(np.exp(arr)))\n",
    "log_sum_exp_base2 = np.log2(np.sum(np.exp2(arr)))\n",
    "print(log_sum_exp)\n",
    "print(log_sum_exp_base2)"
   ]
  },
  {
   "cell_type": "code",
   "execution_count": 13,
   "metadata": {},
   "outputs": [
    {
     "name": "stdout",
     "output_type": "stream",
     "text": [
      "[0.         0.33333333 0.66666667 1.         1.33333333 1.66666667\n",
      " 2.         2.33333333 2.66666667 3.        ]\n"
     ]
    }
   ],
   "source": [
    "# 3\n",
    "print(np.arange(10)/ 3)"
   ]
  },
  {
   "cell_type": "code",
   "execution_count": 14,
   "metadata": {},
   "outputs": [
    {
     "name": "stdout",
     "output_type": "stream",
     "text": [
      "[1. 2. 3. 4.]\n",
      "[0. 1. 2. 2.]\n"
     ]
    }
   ],
   "source": [
    "# 4.\n",
    "array_4 = np.array([1.0, 2.0, 3.0, 4.0])\n",
    "floor_div_result = np.floor_divide(array_4, 1.5)\n",
    "print(array_4)\n",
    "print(floor_div_result)"
   ]
  },
  {
   "cell_type": "code",
   "execution_count": 16,
   "metadata": {},
   "outputs": [
    {
     "name": "stdout",
     "output_type": "stream",
     "text": [
      "[0 1 2 3 4 5 6]\n",
      "[    1     1     4    27   256  3125 46656]\n"
     ]
    }
   ],
   "source": [
    "# 5\n",
    "array_5 = np.array([0, 1, 2, 3, 4, 5, 6])\n",
    "power_result = np.power(array_5, array_5)\n",
    "print(array_5)\n",
    "print(power_result)"
   ]
  },
  {
   "cell_type": "code",
   "execution_count": 17,
   "metadata": {},
   "outputs": [
    {
     "name": "stdout",
     "output_type": "stream",
     "text": [
      "[0 1 2 3 4 5 6]\n",
      "[0 1 2 3 4 0 1]\n"
     ]
    }
   ],
   "source": [
    "# 6\n",
    "array_6 = np.array([0, 1, 2, 3, 4, 5, 6])\n",
    "remainder_result = np.remainder(array_6, 5)\n",
    "print(array_6)\n",
    "print(remainder_result)"
   ]
  },
  {
   "cell_type": "code",
   "execution_count": 18,
   "metadata": {},
   "outputs": [
    {
     "name": "stdout",
     "output_type": "stream",
     "text": [
      "[ 10.2 122.2   0.2]\n"
     ]
    }
   ],
   "source": [
    "# 7\n",
    "print(np.abs(np.array([-10.2, 122.2, 0.2])))"
   ]
  },
  {
   "cell_type": "code",
   "execution_count": 19,
   "metadata": {},
   "outputs": [
    {
     "name": "stdout",
     "output_type": "stream",
     "text": [
      "[1.1 2.2 2.3]\n",
      "[0.3 0.6 0.7]\n",
      "[0. 2. 2. 4. 5.]\n"
     ]
    }
   ],
   "source": [
    "# 8\n",
    "array_1 = np.array([1.111, 2.222, 2.333])\n",
    "array_2 = np.array([0.333, 0.555, 0.666])\n",
    "array_3 = np.array([0.111, 2.222, 2.444, 4.444, 4.555])\n",
    "print(np.round(array_1, 1))\n",
    "print(np.round(array_2, 1))\n",
    "print(np.round(array_3, 0))"
   ]
  }
 ],
 "metadata": {
  "kernelspec": {
   "display_name": "Python 3",
   "language": "python",
   "name": "python3"
  },
  "language_info": {
   "codemirror_mode": {
    "name": "ipython",
    "version": 3
   },
   "file_extension": ".py",
   "mimetype": "text/x-python",
   "name": "python",
   "nbconvert_exporter": "python",
   "pygments_lexer": "ipython3",
   "version": "3.12.7"
  }
 },
 "nbformat": 4,
 "nbformat_minor": 2
}
